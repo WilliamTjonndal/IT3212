{
 "cells": [
  {
   "cell_type": "markdown",
   "id": "c16c228a",
   "metadata": {},
   "source": [
    "# Fourier Transform"
   ]
  },
  {
   "cell_type": "markdown",
   "id": "df7b52e9",
   "metadata": {},
   "source": [
    "1. Load a grayscale image and apply the 2D Discrete Fourier Transform (DFT) to it. Visualize\n",
    "the original image and its frequency spectrum (magnitude). Submit the images, and\n",
    "explanation."
   ]
  },
  {
   "cell_type": "code",
   "execution_count": null,
   "id": "ce4eb54e",
   "metadata": {},
   "outputs": [],
   "source": []
  },
  {
   "cell_type": "markdown",
   "id": "52c854ab",
   "metadata": {},
   "source": [
    "2. Implement a low-pass filter in the frequency domain to remove high-frequency noise from\n",
    "an image. Compare the filtered image with the original image. Submit images, and analysis\n",
    "of the results."
   ]
  },
  {
   "cell_type": "code",
   "execution_count": null,
   "id": "1aa3dde1",
   "metadata": {},
   "outputs": [],
   "source": []
  },
  {
   "cell_type": "markdown",
   "id": "9fdd4420",
   "metadata": {},
   "source": [
    "3. Implement a high-pass filter to enhance the edges in an image. Visualize the filtered image\n",
    "and discuss the effects observed. Submit images, and explanation."
   ]
  },
  {
   "cell_type": "code",
   "execution_count": null,
   "id": "3179499b",
   "metadata": {},
   "outputs": [],
   "source": []
  },
  {
   "cell_type": "markdown",
   "id": "f0033636",
   "metadata": {},
   "source": [
    "4. Implement an image compression technique using Fourier Transform by selectively keeping\n",
    "only a certain percentage of the Fourier coefficients. Evaluate the quality of the\n",
    "reconstructed image as you vary the percentage of coefficients used. Submit the images,\n",
    "and your observations on image quality and compression ratio."
   ]
  },
  {
   "cell_type": "code",
   "execution_count": null,
   "id": "260edc74",
   "metadata": {},
   "outputs": [],
   "source": []
  },
  {
   "cell_type": "markdown",
   "id": "19ce4fa5",
   "metadata": {},
   "source": [
    "# PCA"
   ]
  },
  {
   "cell_type": "markdown",
   "id": "c2cc978b",
   "metadata": {},
   "source": [
    "Select a set of grayscale images (e.g., faces, landscapes, or any other category).\n",
    "Normalize the images by scaling pixel values to a range [0, 1]."
   ]
  },
  {
   "cell_type": "markdown",
   "id": "748f94c0",
   "metadata": {},
   "source": [
    "## PCA Implementation:\n",
    "Write a Python function to perform PCA on the images.\n",
    "Implement the following steps:"
   ]
  },
  {
   "cell_type": "markdown",
   "id": "e0a573d4",
   "metadata": {},
   "source": [
    "1. Convert the image into a 2D matrix where each row represents an image and each column\n",
    "represents a pixel value"
   ]
  },
  {
   "cell_type": "markdown",
   "id": "aa20b8f8",
   "metadata": {},
   "source": [
    "2. Compute the covariance matrix of the image data."
   ]
  },
  {
   "cell_type": "markdown",
   "id": "8d838834",
   "metadata": {},
   "source": [
    "3. Calculate the eigenvalues and eigenvectors of the covariance matrix."
   ]
  },
  {
   "cell_type": "markdown",
   "id": "1b8648c2",
   "metadata": {},
   "source": [
    "4. Sort the eigenvectors based on the eigenvalues in descending order."
   ]
  },
  {
   "cell_type": "markdown",
   "id": "18c9756d",
   "metadata": {},
   "source": [
    "\n",
    "5. Select the top k eigenvectors to form the principal components."
   ]
  },
  {
   "cell_type": "markdown",
   "id": "5bc547cc",
   "metadata": {},
   "source": [
    "6. Project the original images onto the lower-dimensional subspace defined by the selected principal components."
   ]
  },
  {
   "cell_type": "markdown",
   "id": "7d577c9e",
   "metadata": {},
   "source": [
    "## Reconstruction of Images:"
   ]
  },
  {
   "cell_type": "markdown",
   "id": "09090efc",
   "metadata": {},
   "source": [
    "1. Using the selected principal components, reconstruct the images."
   ]
  },
  {
   "cell_type": "markdown",
   "id": "53e29c63",
   "metadata": {},
   "source": [
    "2. Compare the reconstructed images with the original images to observe the effects of\n",
    "dimensionality reduction."
   ]
  },
  {
   "cell_type": "markdown",
   "id": "0ccdeba2",
   "metadata": {},
   "source": [
    "## Experimentation:"
   ]
  },
  {
   "cell_type": "markdown",
   "id": "9fc54824",
   "metadata": {},
   "source": [
    "1. Vary the number of principal components (k) and observe the impact on the quality of the\n",
    "reconstructed images."
   ]
  },
  {
   "cell_type": "markdown",
   "id": "a9af1389",
   "metadata": {},
   "source": [
    "2. Plot the variance explained by the principal components and determine the optimal number\n",
    "of components that balances compression and quality."
   ]
  },
  {
   "cell_type": "markdown",
   "id": "f4d35909",
   "metadata": {},
   "source": [
    "## Visual Analysis:"
   ]
  },
  {
   "cell_type": "markdown",
   "id": "94b79879",
   "metadata": {},
   "source": [
    "1. Display the original images alongside the reconstructed images for different values of k."
   ]
  },
  {
   "cell_type": "markdown",
   "id": "45502dfa",
   "metadata": {},
   "source": [
    "2. Comment on the visual quality of the images and how much information is lost during\n",
    "compression."
   ]
  },
  {
   "cell_type": "markdown",
   "id": "f635e51f",
   "metadata": {},
   "source": [
    "## Error Analysis:"
   ]
  },
  {
   "cell_type": "markdown",
   "id": "df2be709",
   "metadata": {},
   "source": [
    "1. Compute the Mean Squared Error (MSE) between the original and reconstructed images."
   ]
  },
  {
   "cell_type": "markdown",
   "id": "e600bee2",
   "metadata": {},
   "source": [
    "2. Analyze the trade-off between compression and reconstruction error."
   ]
  },
  {
   "cell_type": "markdown",
   "id": "27ca245c",
   "metadata": {},
   "source": [
    "# Image processing"
   ]
  },
  {
   "cell_type": "markdown",
   "id": "a755963f",
   "metadata": {},
   "source": [
    "## HOG Features"
   ]
  },
  {
   "cell_type": "markdown",
   "id": "77f97478",
   "metadata": {},
   "source": [
    "1. Write a Python script to compute the HOG features of a given image using a library such as\n",
    "OpenCV or scikit-image."
   ]
  },
  {
   "cell_type": "markdown",
   "id": "a051ab8e",
   "metadata": {},
   "source": [
    "2. Apply your implementation to at least three different images, including both simple and\n",
    "complex scenes."
   ]
  },
  {
   "cell_type": "markdown",
   "id": "475a7b10",
   "metadata": {},
   "source": [
    "3. Visualize the original image, the gradient image, and the HOG feature image."
   ]
  },
  {
   "cell_type": "markdown",
   "id": "ccbf409b",
   "metadata": {},
   "source": [
    "4. Compare the HOG features extracted from different images. Discuss the impact of varying\n",
    "parameters like cell size, block size, and the number of bins on the resulting HOG\n",
    "descriptors."
   ]
  },
  {
   "cell_type": "markdown",
   "id": "a82456c4",
   "metadata": {},
   "source": [
    "## Local Binary Patterns (LBP)"
   ]
  },
  {
   "cell_type": "markdown",
   "id": "935d5103",
   "metadata": {},
   "source": [
    "1. Write a Python function to compute the LBP of a given grayscale image. Use the basic 8-\n",
    "neighbor LBP method."
   ]
  },
  {
   "cell_type": "markdown",
   "id": "b1d69bfb",
   "metadata": {},
   "source": [
    "2. Your function should output the LBP image, where each pixel is replaced by its\n",
    "corresponding LBP value."
   ]
  },
  {
   "cell_type": "markdown",
   "id": "606273d3",
   "metadata": {},
   "source": [
    "3. Write a Python function to compute the histogram of the LBP image."
   ]
  },
  {
   "cell_type": "markdown",
   "id": "22aebc55",
   "metadata": {},
   "source": [
    "4. Plot the histogram and explain what it represents in terms of the texture features of the\n",
    "image."
   ]
  },
  {
   "cell_type": "markdown",
   "id": "61d23881",
   "metadata": {},
   "source": [
    "5. Apply your LBP function to at least three different grayscale images (e.g., a natural scene, a\n",
    "texture, and a face image)."
   ]
  },
  {
   "cell_type": "markdown",
   "id": "35338e58",
   "metadata": {},
   "source": [
    "6. Generate and compare the histograms of the LBP images."
   ]
  },
  {
   "cell_type": "markdown",
   "id": "b61eb534",
   "metadata": {},
   "source": [
    "7. Discuss the differences in the histograms and what they tell you about the textures of the\n",
    "different images."
   ]
  },
  {
   "cell_type": "markdown",
   "id": "a788a18e",
   "metadata": {},
   "source": [
    "## Implement a blob detection algorithm"
   ]
  },
  {
   "cell_type": "markdown",
   "id": "6dbd59bf",
   "metadata": {},
   "source": [
    "1. Apply the blob detection algorithm to one of the provided image datasets on blackborad."
   ]
  },
  {
   "cell_type": "markdown",
   "id": "65709a52",
   "metadata": {},
   "source": [
    "2. Visualize the detected blobs on the original images, marking each detected blob with a\n",
    "circle or bounding box."
   ]
  },
  {
   "cell_type": "markdown",
   "id": "9e8b8871",
   "metadata": {},
   "source": [
    "3. Calculate and display relevant statistics for each image, such as the number of blobs\n",
    "detected, their sizes, and positions."
   ]
  },
  {
   "cell_type": "markdown",
   "id": "774bb323",
   "metadata": {},
   "source": [
    "4. Evaluate and discuss the effect of different parameters in the algorithms on the detection of\n",
    "different blobs."
   ]
  },
  {
   "cell_type": "markdown",
   "id": "ff543bfc",
   "metadata": {},
   "source": [
    "## Implement a contour detection algorithm."
   ]
  },
  {
   "cell_type": "markdown",
   "id": "dd3fe613",
   "metadata": {},
   "source": [
    "1. Apply the contour detection algorithm to the same image dataset."
   ]
  },
  {
   "cell_type": "markdown",
   "id": "6a42f0f6",
   "metadata": {},
   "source": [
    "2. Visualize the detected contours on the original images, marking each contour with a\n",
    "different color."
   ]
  },
  {
   "cell_type": "markdown",
   "id": "afb37a71",
   "metadata": {},
   "source": [
    "3. Calculate and display relevant statistics for each image, such as the number of contours\n",
    "detected, contour area, and perimeter."
   ]
  },
  {
   "cell_type": "markdown",
   "id": "9415fdeb",
   "metadata": {},
   "source": [
    "4. Compare the results of blob detection and contour detection for the chosen dataset."
   ]
  },
  {
   "cell_type": "markdown",
   "id": "8a178278",
   "metadata": {},
   "source": [
    "5. Discuss the advantages and limitations of each technique."
   ]
  },
  {
   "cell_type": "markdown",
   "id": "52f4a3c5",
   "metadata": {},
   "source": [
    "\n",
    "\n",
    "\n",
    "\n",
    "6. Analyze the impact of different parameters (e.g., threshold values, filter sizes) on the\n",
    "detection results."
   ]
  },
  {
   "cell_type": "markdown",
   "id": "70623592",
   "metadata": {},
   "source": [
    "7. Provide examples where one technique might be more suitable than the other."
   ]
  }
 ],
 "metadata": {
  "kernelspec": {
   "display_name": "base",
   "language": "python",
   "name": "python3"
  },
  "language_info": {
   "codemirror_mode": {
    "name": "ipython",
    "version": 3
   },
   "file_extension": ".py",
   "mimetype": "text/x-python",
   "name": "python",
   "nbconvert_exporter": "python",
   "pygments_lexer": "ipython3",
   "version": "3.13.5"
  }
 },
 "nbformat": 4,
 "nbformat_minor": 5
}
