{
 "cells": [
  {
   "cell_type": "markdown",
   "id": "84ae77ad",
   "metadata": {},
   "source": [
    "## 1. Develop a problem statement (real world and machine learning) 10\n",
    "\n",
    "a. This is one of the most important skills that a Machine Learning Engineer/Scientist\n",
    "should have. Select a dataset and frame a machine learning problem and then\n",
    "connect this machine learning problem to the real world scenario. "
   ]
  },
  {
   "cell_type": "markdown",
   "id": "cef841f1",
   "metadata": {},
   "source": [
    "## 2. Implement the preprocessing and justify the preprocessing steps 20 (without justification 10)"
   ]
  },
  {
   "cell_type": "markdown",
   "id": "360b73c5",
   "metadata": {},
   "source": [
    "## 3. Extract features and justify the methods used 20 (without justification 10)"
   ]
  },
  {
   "cell_type": "markdown",
   "id": "9fc7cc19",
   "metadata": {},
   "source": [
    "## 4. Select features and justify the methods used 20 (without justification 10)"
   ]
  },
  {
   "cell_type": "markdown",
   "id": "292c7ddf",
   "metadata": {},
   "source": [
    "## 5. Implement five out of the following algorithms and justify the choice 30 (without justification 10)"
   ]
  },
  {
   "cell_type": "markdown",
   "id": "0f162fea",
   "metadata": {},
   "source": [
    "## 6. Compare the performance of the five algorithms with respect to your problem, explain the results. 20 (without explanation 10)"
   ]
  },
  {
   "cell_type": "markdown",
   "id": "67c08274",
   "metadata": {},
   "source": [
    "## 7. Implement boosting and bagging with your choice of base models and explain all the steps 20"
   ]
  },
  {
   "cell_type": "markdown",
   "id": "cc2c8fdc",
   "metadata": {},
   "source": [
    "## 8. Implement one instance of transfer learning (find a related bigger dataset online) and explain all the steps 20"
   ]
  },
  {
   "cell_type": "markdown",
   "id": "97f361f4",
   "metadata": {},
   "source": [
    "a. Explain the bigger dataset with visualization and summary statistics. "
   ]
  },
  {
   "cell_type": "markdown",
   "id": "1cfa5fd8",
   "metadata": {},
   "source": [
    "## 9. Compare the performance of the algorithms (basic VS boosting VS bagging VS transfer) with respect to your machine learning problem and explain the results. 20 (without explanation 10)"
   ]
  }
 ],
 "metadata": {
  "language_info": {
   "name": "python"
  }
 },
 "nbformat": 4,
 "nbformat_minor": 5
}
